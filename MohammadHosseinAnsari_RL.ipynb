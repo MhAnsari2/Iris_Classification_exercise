{
  "nbformat": 4,
  "nbformat_minor": 0,
  "metadata": {
    "colab": {
      "name": "MohammadHosseinAnsari_RL.ipynb",
      "provenance": [],
      "collapsed_sections": []
    },
    "kernelspec": {
      "name": "python3",
      "display_name": "Python 3"
    },
    "language_info": {
      "name": "python"
    }
  },
  "cells": [
    {
      "cell_type": "code",
      "execution_count": 108,
      "metadata": {
        "id": "OevilCnJBnF2"
      },
      "outputs": [],
      "source": [
        "#for this part to run you need to install the scikit learn library so that you are able to import sklearn\n",
        "#try the following code:\n",
        "#pip install -U scikit-learn scipy matplotlib\n",
        "\n",
        "import pandas as pnds\n",
        "import matplotlib.pyplot as plt\n",
        "from sklearn.model_selection import train_test_split\n",
        "import torch\n",
        "import torch.nn as tnn\n",
        "import torch.nn.functional as tFunc"
      ]
    },
    {
      "cell_type": "code",
      "source": [
        "iris = pnds.read_csv('https://gist.githubusercontent.com/netj/8836201/raw/6f9306ad21398ea43cba4f7d537619d0e07d5ae3/iris.csv')\n",
        "\n",
        "mappings = {\n",
        "   'Setosa': 0,\n",
        "   'Versicolor': 1,\n",
        "   'Virginica': 2}\n",
        "\n",
        "iris['variety'] = iris['variety'].apply(lambda x: mappings[x])"
      ],
      "metadata": {
        "id": "xB4RyUtSCfEY"
      },
      "execution_count": 109,
      "outputs": []
    },
    {
      "cell_type": "code",
      "source": [
        "X = iris.drop('variety', axis=1).values\n",
        "y = iris['variety'].values\n",
        "trdata_X, tstdata_X, trdata_y,tstdata_y = train_test_split(X, y, test_size=0.2, random_state=20)\n",
        "trdata_X = torch.FloatTensor(trdata_X)\n",
        "tstdata_X = torch.FloatTensor(tstdata_X)\n",
        "trdata_y = torch.LongTensor(trdata_y)\n",
        "y_test = torch.LongTensor(tstdata_y)"
      ],
      "metadata": {
        "id": "V9-E1o5xDl67"
      },
      "execution_count": 110,
      "outputs": []
    },
    {
      "cell_type": "code",
      "source": [
        "class ANN(tnn.Module):\n",
        "   def __init__(self):\n",
        "       super().__init__()\n",
        "       self.fllyconnctd1 = tnn.Linear(in_features=4, out_features=25)\n",
        "       self.fllyconnctd2 = tnn.Linear(in_features=25, out_features=15)\n",
        "       self.output = tnn.Linear(in_features=15, out_features=3)\n",
        " \n",
        "   def forward(self, x):\n",
        "       x = tFunc.relu(self.fllyconnctd1(x))\n",
        "       x = tFunc.relu(self.fllyconnctd2(x))\n",
        "       x = self.output(x)\n",
        "       return x"
      ],
      "metadata": {
        "id": "4InkWedhD1tt"
      },
      "execution_count": 111,
      "outputs": []
    },
    {
      "cell_type": "code",
      "source": [
        "model = ANN()\n",
        "lossfunc = tnn.CrossEntropyLoss()\n",
        "updater = torch.optim.SGD(model.parameters(), lr=0.01, momentum=0.9)"
      ],
      "metadata": {
        "id": "I2oZku3uER7X"
      },
      "execution_count": 112,
      "outputs": []
    },
    {
      "cell_type": "code",
      "source": [
        "%%time\n",
        "\n",
        "\n",
        "epoch = 200\n",
        "lossarray = []\n",
        "for i in range(epoch):\n",
        "   target = model.forward(trdata_X)\n",
        "   loss = lossfunc(target, trdata_y)\n",
        "   lossarray.append(loss)\n",
        " \n",
        "   if i % 10 == 0:\n",
        "       print(f'Epoch: {i} Loss: {loss}')\n",
        " \n",
        "   updater.zero_grad()\n",
        "   loss.backward()\n",
        "   updater.step()\n",
        "  \n",
        "plt.plot(range(epoch), lossarray)\n",
        "plt.xlabel('number of epoch iterations')\n",
        "plt.ylabel('Accuracy Score')\n",
        "plt.title('Accuracy of model through runtime')\n",
        "plt.show()"
      ],
      "metadata": {
        "colab": {
          "base_uri": "https://localhost:8080/",
          "height": 688
        },
        "id": "kDjO6uNrEU2i",
        "outputId": "aaf3ee37-3da5-4b49-c7a1-d01d31434a1f"
      },
      "execution_count": 113,
      "outputs": [
        {
          "output_type": "stream",
          "name": "stdout",
          "text": [
            "Epoch: 0 Loss: 1.2011162042617798\n",
            "Epoch: 10 Loss: 1.038694977760315\n",
            "Epoch: 20 Loss: 0.8858512043952942\n",
            "Epoch: 30 Loss: 0.6587054133415222\n",
            "Epoch: 40 Loss: 0.47814610600471497\n",
            "Epoch: 50 Loss: 0.38547077775001526\n",
            "Epoch: 60 Loss: 0.32016295194625854\n",
            "Epoch: 70 Loss: 0.2550519108772278\n",
            "Epoch: 80 Loss: 0.20327088236808777\n",
            "Epoch: 90 Loss: 0.16434356570243835\n",
            "Epoch: 100 Loss: 0.13748709857463837\n",
            "Epoch: 110 Loss: 0.11955271661281586\n",
            "Epoch: 120 Loss: 0.1074429452419281\n",
            "Epoch: 130 Loss: 0.09893741458654404\n",
            "Epoch: 140 Loss: 0.09266132861375809\n",
            "Epoch: 150 Loss: 0.08786382526159286\n",
            "Epoch: 160 Loss: 0.08410026133060455\n",
            "Epoch: 170 Loss: 0.08103001117706299\n",
            "Epoch: 180 Loss: 0.07846446335315704\n",
            "Epoch: 190 Loss: 0.07627558708190918\n"
          ]
        },
        {
          "output_type": "display_data",
          "data": {
            "image/png": "[encoded data removed]",
            "text/plain": [
              "<Figure size 432x288 with 1 Axes>"
            ]
          },
          "metadata": {
            "needs_background": "light"
          }
        },
        {
          "output_type": "stream",
          "name": "stdout",
          "text": [
            "CPU times: user 316 ms, sys: 27.1 ms, total: 343 ms\n",
            "Wall time: 328 ms\n"
          ]
        }
      ]
    },
    {
      "cell_type": "code",
      "source": [
        "prediction = []\n",
        "with torch.no_grad():\n",
        "   for val in tstdata_X:\n",
        "       target = model.forward(val)\n",
        "       prediction.append(target.argmax().item())"
      ],
      "metadata": {
        "id": "dZW-NViAEauy"
      },
      "execution_count": 114,
      "outputs": []
    },
    {
      "cell_type": "code",
      "source": [
        "df = pnds.DataFrame({'target':tstdata_y, 'predicted': prediction})\n",
        "df['right'] = [1 if corr == pred else 0 for corr, pred in zip(df['target'], df['predicted'])]\n",
        "df['right'].sum() / len(df)"
      ],
      "metadata": {
        "colab": {
          "base_uri": "https://localhost:8080/"
        },
        "id": "cVWNRvPaEgV3",
        "outputId": "948811e4-935b-43d3-fb8d-17ab3fda84f3"
      },
      "execution_count": 115,
      "outputs": [
        {
          "output_type": "execute_result",
          "data": {
            "text/plain": [
              "0.9666666666666667"
            ]
          },
          "metadata": {},
          "execution_count": 115
        }
      ]
    }
  ]
}